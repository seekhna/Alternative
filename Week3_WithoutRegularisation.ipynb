{
 "cells": [
  {
   "cell_type": "markdown",
   "metadata": {},
   "source": [
    "  Machine Learning Online Class - Exercise 2: Logistic Regression\n",
    "                              \n",
    "  ====================Instructions====================\n",
    " \n",
    "  This file contains code that helps you get started on the logistic regression exercise. \n",
    "  You will need to complete the following functions in this exericse:\n",
    "\n",
    "  sigmoid.m\n",
    "\n",
    "  costFunction.m\n",
    "\n",
    "  predict.m\n",
    "\n",
    "  costFunctionReg.m\n",
    "\n",
    "  For this exercise, you will not need to change any code in this file,or any other files other than those mentioned above"
   ]
  },
  {
   "cell_type": "markdown",
   "metadata": {},
   "source": [
    " Load Data\n",
    "  The first two columns contains the exam scores and the third column\n",
    "  contains the label."
   ]
  },
  {
   "cell_type": "code",
   "execution_count": 1,
   "metadata": {},
   "outputs": [],
   "source": [
    "import numpy as np\n",
    "import pandas as pd\n",
    "import matplotlib.pyplot as plt\n",
    "import seaborn as sns\n",
    "import math\n",
    "import scipy.optimize as opt"
   ]
  },
  {
   "cell_type": "code",
   "execution_count": 2,
   "metadata": {},
   "outputs": [],
   "source": [
    "filename='ex2data1.csv';\n",
    "data1=pd.read_csv(filename,nrows=99,header=None)\n",
    "data1.columns=['Input1','Input2','Output']\n",
    "dataX=pd.DataFrame(data=data1[:][:],index=range(0,99),columns=['Input1','Input2'])\n",
    "dataY=pd.DataFrame(data=data1[:][:],index=range(0,99),columns=['Output'])"
   ]
  },
  {
   "cell_type": "markdown",
   "metadata": {},
   "source": [
    " ==================== Part 1: Plotting ====================\n",
    " \n",
    " We start the exercise by first plotting the data to understand the the problem we are working with."
   ]
  },
  {
   "cell_type": "code",
   "execution_count": 3,
   "metadata": {
    "scrolled": false
   },
   "outputs": [
    {
     "name": "stdout",
     "output_type": "stream",
     "text": [
      "Plotting data with + indicating (y = 1) examples and o indicating (y = 0) examples.\n",
      "\n"
     ]
    },
    {
     "data": {
      "image/png": "[encoded data removed]",
      "text/plain": [
       "<Figure size 432x288 with 1 Axes>"
      ]
     },
     "metadata": {
      "needs_background": "light"
     },
     "output_type": "display_data"
    }
   ],
   "source": [
    "print(\"Plotting data with + indicating (y = 1) examples and o indicating (y = 0) examples.\\n\");\n",
    "plt.scatter(x=data1['Input1'],y=data1['Input2'],alpha=0.5,marker='+')\n",
    "plt.show()"
   ]
  },
  {
   "cell_type": "code",
   "execution_count": 4,
   "metadata": {},
   "outputs": [
    {
     "data": {
      "image/png": "[encoded data removed]",
      "text/plain": [
       "<Figure size 432x288 with 1 Axes>"
      ]
     },
     "metadata": {
      "needs_background": "light"
     },
     "output_type": "display_data"
    }
   ],
   "source": [
    "for key,row in data1.iterrows():\n",
    "    if row['Output']==1:\n",
    "        plt.scatter(x=row['Input1'],y=row['Input2'],label='Admitted',alpha=0.5,color='red',marker='+')\n",
    "    elif row['Output']==0:\n",
    "        plt.scatter(x=row['Input1'],y=row['Input2'],alpha=0.5,color='green',marker='o')\n",
    "plt.xlabel('Exam 1 Score')\n",
    "plt.ylabel('Exam 2 Score')\n",
    "plt.show()"
   ]
  },
  {
   "cell_type": "markdown",
   "metadata": {},
   "source": [
    " ============ Part 2: Compute Cost and Gradient ============\n",
    "\n",
    "  In this part of the exercise, you will implement the cost and gradient\n",
    "\n",
    "  for logistic regression. You neeed to complete the code in \n",
    "\n",
    "  costFunction.m"
   ]
  },
  {
   "cell_type": "markdown",
   "metadata": {},
   "source": [
    "  Setup the data matrix appropriately, and add ones for the intercept term"
   ]
  },
  {
   "cell_type": "code",
   "execution_count": 5,
   "metadata": {},
   "outputs": [],
   "source": [
    "X=dataX.values\n",
    "y=dataY.values"
   ]
  },
  {
   "cell_type": "code",
   "execution_count": 6,
   "metadata": {},
   "outputs": [
    {
     "name": "stdout",
     "output_type": "stream",
     "text": [
      "99 2\n",
      "99 1\n"
     ]
    }
   ],
   "source": [
    "[m,n]=X.shape\n",
    "print(m,n)\n",
    "[p,q]=y.shape\n",
    "print(p,q)"
   ]
  },
  {
   "cell_type": "markdown",
   "metadata": {},
   "source": [
    "Adding intercept term to the numpy matrix X"
   ]
  },
  {
   "cell_type": "code",
   "execution_count": 7,
   "metadata": {},
   "outputs": [
    {
     "name": "stdout",
     "output_type": "stream",
     "text": [
      "(99, 1)\n",
      "(99, 3)\n"
     ]
    }
   ],
   "source": [
    "M=np.ones((99,1))\n",
    "print(M.shape)\n",
    "X=np.concatenate((M,X),axis=1)\n",
    "print(X.shape)\n",
    "X=np.array(X)"
   ]
  },
  {
   "cell_type": "markdown",
   "metadata": {},
   "source": [
    "% Initialize fitting parameters\n",
    "\n",
    "% Compute and display initial cost and gradient\n",
    "\n",
    "Sigmoid Function"
   ]
  },
  {
   "cell_type": "code",
   "execution_count": 8,
   "metadata": {},
   "outputs": [],
   "source": [
    "def sigmoid(X,theta):\n",
    "    z=np.array(X.dot(theta));\n",
    "    g=np.zeros((z.shape))\n",
    "    for i in range(0,len(z)):\n",
    "        g[i]=1/(1+math.exp(-z[i]))   \n",
    "    return g"
   ]
  },
  {
   "cell_type": "markdown",
   "metadata": {},
   "source": [
    "Cost Function and Gradient Function merged"
   ]
  },
  {
   "cell_type": "code",
   "execution_count": 9,
   "metadata": {},
   "outputs": [],
   "source": [
    "def cost(theta,X,y):\n",
    "    g=sigmoid(X,theta)\n",
    "    J=0;\n",
    "    for i in range(0,len(X)):\n",
    "        J=J-(y[i])*math.log(g[i])-(1-y[i])*math.log(1-g[i])\n",
    "    return J/len(X)"
   ]
  },
  {
   "cell_type": "code",
   "execution_count": 10,
   "metadata": {},
   "outputs": [],
   "source": [
    "def grad(theta,X,y):\n",
    "    g=sigmoid(X,theta)\n",
    "    grad=np.zeros((theta.shape))\n",
    "    for i in range(0,len(X)):\n",
    "        for j in range(0,n+1):\n",
    "            grad[j]=grad[j]+(g[i]-y[i])*X[i][j];\n",
    "    return grad/len(X)  "
   ]
  },
  {
   "cell_type": "code",
   "execution_count": 11,
   "metadata": {},
   "outputs": [
    {
     "name": "stdout",
     "output_type": "stream",
     "text": [
      "[0.22053412]\n",
      "[[0.04333779]\n",
      " [2.59226276]\n",
      " [2.67366091]]\n"
     ]
    }
   ],
   "source": [
    "theta=np.array([[-24],[0.2],[0.2]])\n",
    "print(cost(theta,X,y))\n",
    "print(grad(theta,X,y))"
   ]
  },
  {
   "cell_type": "markdown",
   "metadata": {},
   "source": [
    "% Compute and display cost and gradient with non-zero theta"
   ]
  },
  {
   "cell_type": "markdown",
   "metadata": {},
   "source": [
    " ============= Part 3: Optimizing using fminunc  =============\n",
    " \n",
    " In this exercise, you will use a built-in function (fminunc) to find the\n",
    " \n",
    " optimal parameters theta.\n",
    "\n",
    " \n",
    " Set options for fminunc"
   ]
  },
  {
   "cell_type": "markdown",
   "metadata": {},
   "source": [
    "\"fminunc\" is used to optimize the parameters given functions to compute the cost and the gradients. \n",
    "Since we're using Python, we can use SciPy's optimization API to do the same thing.\n",
    "\n",
    "Helpful Link: https://docs.scipy.org/doc/scipy/reference/generated/scipy.optimize.fmin_tnc.html"
   ]
  },
  {
   "cell_type": "code",
   "execution_count": 12,
   "metadata": {},
   "outputs": [
    {
     "name": "stdout",
     "output_type": "stream",
     "text": [
      "[0.20555072]\n",
      "[-25.15843436   0.2062087    0.20144708]\n"
     ]
    }
   ],
   "source": [
    "result = opt.fmin_tnc(func=cost, x0=theta, fprime=grad, args=(X,y))\n",
    "print(cost(result[0],X,y))\n",
    "theta_min = np.array(result[0])\n",
    "print(theta_min)"
   ]
  },
  {
   "cell_type": "markdown",
   "metadata": {},
   "source": [
    "%% ============== Part 4: Predict and Accuracies ==============\n",
    "%  After learning the parameters, you'll like to use it to predict the outcomes\n",
    "%  on unseen data. In this part, you will use the logistic regression model\n",
    "%  to predict the probability that a student with score 45 on exam 1 and \n",
    "%  score 85 on exam 2 will be admitted.\n",
    "%\n",
    "%  Furthermore, you will compute the training and test set accuracies of \n",
    "%  our model.\n",
    "%\n",
    "%  Your task is to complete the code in predict.m\n",
    "\n",
    "%  Predict probability for a student with score 45 on exam 1 \n",
    "%  and score 85 on exam 2 \n"
   ]
  },
  {
   "cell_type": "markdown",
   "metadata": {},
   "source": [
    "CALCULATING PROBABLITY FOR SCORE IN Exams as 45,85"
   ]
  },
  {
   "cell_type": "code",
   "execution_count": 19,
   "metadata": {},
   "outputs": [
    {
     "name": "stdout",
     "output_type": "stream",
     "text": [
      "[0.77625244]\n"
     ]
    }
   ],
   "source": [
    "test=np.array([[1,45,85]])\n",
    "prob = sigmoid(test,theta_min)\n",
    "print(prob)"
   ]
  },
  {
   "cell_type": "markdown",
   "metadata": {},
   "source": [
    "PREDICT"
   ]
  },
  {
   "cell_type": "code",
   "execution_count": 60,
   "metadata": {},
   "outputs": [],
   "source": [
    "def predict(theta, X,y):\n",
    "    m = len(X)\n",
    "    p = np.zeros((m, 1))\n",
    "    count=0\n",
    "    for i in range(0,m):\n",
    "        x=np.array([X[i][:]])\n",
    "        if(sigmoid(x,theta)>0.5):\n",
    "            p[i]=1\n",
    "            if p[i]==y[i]:\n",
    "                count=count+1\n",
    "            else:\n",
    "                continue\n",
    "        else:\n",
    "            p[i]=0\n",
    "            if p[i]==y[i]:\n",
    "                count=count+1\n",
    "            else:\n",
    "                continue\n",
    "    return count;"
   ]
  },
  {
   "cell_type": "code",
   "execution_count": 65,
   "metadata": {},
   "outputs": [],
   "source": [
    "p= predict(theta_min, X,y)"
   ]
  },
  {
   "cell_type": "markdown",
   "metadata": {},
   "source": [
    "Accuracy"
   ]
  },
  {
   "cell_type": "code",
   "execution_count": 66,
   "metadata": {},
   "outputs": [
    {
     "name": "stdout",
     "output_type": "stream",
     "text": [
      "88.88888888888889\n"
     ]
    }
   ],
   "source": [
    "print(((p)/len(X))*100)"
   ]
  }
 ],
 "metadata": {
  "kernelspec": {
   "display_name": "Python 3",
   "language": "python",
   "name": "python3"
  },
  "language_info": {
   "codemirror_mode": {
    "name": "ipython",
    "version": 3
   },
   "file_extension": ".py",
   "mimetype": "text/x-python",
   "name": "python",
   "nbconvert_exporter": "python",
   "pygments_lexer": "ipython3",
   "version": "3.7.1"
  }
 },
 "nbformat": 4,
 "nbformat_minor": 2
}
