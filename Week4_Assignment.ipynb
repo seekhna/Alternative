{
 "cells": [
  {
   "cell_type": "code",
   "execution_count": 2,
   "metadata": {},
   "outputs": [],
   "source": [
    "import numpy as np\n",
    "import pandas as pd\n",
    "from scipy.optimize import minimize\n",
    "import math"
   ]
  },
  {
   "cell_type": "code",
   "execution_count": 3,
   "metadata": {},
   "outputs": [],
   "source": [
    "import scipy.io as sio\n",
    "mat_data = sio.loadmat('ex3data1.mat')\n",
    "X = mat_data['X']\n",
    "y = mat_data['y'].ravel()\n",
    "m, n = X.shape"
   ]
  },
  {
   "cell_type": "markdown",
   "metadata": {},
   "source": [
    "The matlab file data consists of 5000 rows and 401 columns\n",
    "where last column has values of label (10 classes for classification problem) which varies from 1 to 10. \n",
    "\n",
    "Each row contains the Greyscale image pixel value for 20*20 image flatten into a row vector of 400*1 dimension."
   ]
  },
  {
   "cell_type": "markdown",
   "metadata": {},
   "source": [
    "Cost Function and Sigmoid Function"
   ]
  },
  {
   "cell_type": "code",
   "execution_count": 4,
   "metadata": {},
   "outputs": [],
   "source": [
    "def lr_cost_function(theta, X, y, l):\n",
    "    \n",
    "    m, n = X.shape\n",
    "\n",
    "    mask = np.eye(len(theta))\n",
    "    mask[0, 0] = 0\n",
    "\n",
    "    X_dot_theta = X.dot(theta)\n",
    "\n",
    "    J = 1.0 / m * (-y.T.dot(np.log(sigmoid(X_dot_theta))) - (1 - y).T.dot(np.log(1 - sigmoid(X_dot_theta)))) \\\n",
    "        + l / (2.0 * m) * np.sum(np.square(mask.dot(theta)))\n",
    "\n",
    "    grad = 1.0 / m * (sigmoid(X_dot_theta) - y).T.dot(X).T + 1.0 * l / m * (mask.dot(theta))\n",
    "    return J, grad\n",
    "\n",
    "\n",
    "def sigmoid(z):\n",
    "    g = 1 / (1 + np.exp(-z))\n",
    "    return g"
   ]
  },
  {
   "cell_type": "markdown",
   "metadata": {},
   "source": [
    "Verifying the cost function with given value \n",
    "of THETA "
   ]
  },
  {
   "cell_type": "code",
   "execution_count": 5,
   "metadata": {},
   "outputs": [
    {
     "name": "stdout",
     "output_type": "stream",
     "text": [
      "(5, 4)\n",
      "Cost: 2.534819396109744\n",
      "Expected cost: 2.534819\n",
      "Gradients: \n",
      " [ 0.14656137 -0.54855841  0.72472227  1.39800296]\n",
      "Expected gradients: 0.146561 -0.548558 0.724722 1.398003\n"
     ]
    }
   ],
   "source": [
    "theta_t = np.array([-2, -1, 1, 2])\n",
    "\n",
    "X_t = np.hstack((np.ones((5, 1)), np.arange(1, 16).reshape(5, 3, order='F') / 10.0))\n",
    "print(X_t.shape)\n",
    "y_t = np.array([1, 0, 1, 0, 1])\n",
    "lambda_t = 3\n",
    "\n",
    "cost, grad = lr_cost_function(theta_t, X_t, y_t, lambda_t)\n",
    "\n",
    "print ('Cost:', cost)\n",
    "print ('Expected cost: 2.534819')\n",
    "print ('Gradients: \\n', grad)\n",
    "print ('Expected gradients: 0.146561 -0.548558 0.724722 1.398003')"
   ]
  },
  {
   "cell_type": "markdown",
   "metadata": {},
   "source": [
    "Optimizing Function\n",
    "\n",
    "y==label is used to get a Boolean Array"
   ]
  },
  {
   "cell_type": "code",
   "execution_count": 6,
   "metadata": {},
   "outputs": [],
   "source": [
    "import scipy.optimize as opt\n",
    "\n",
    "\n",
    "def one_vs_all(X, y, num_labels, l):\n",
    "    m, n = X.shape\n",
    "    all_theta = np.zeros((num_labels, n + 1))\n",
    "    X = np.hstack((np.ones((m, 1)), X))\n",
    "    initial_theta = np.zeros(n + 1)\n",
    "\n",
    "    for i in range(0, 10):\n",
    "        label = 10 if i == 0 else i\n",
    "        result = opt.minimize(fun=lr_cost_function, x0=initial_theta, args=(X, (y==label).astype(int), l),\n",
    "                              method='TNC', jac=True)\n",
    "    \n",
    "        all_theta[i, :] = result.x\n",
    "\n",
    "    return all_theta"
   ]
  },
  {
   "cell_type": "markdown",
   "metadata": {},
   "source": [
    "Calling optimising function to find the value of THETA"
   ]
  },
  {
   "cell_type": "code",
   "execution_count": 7,
   "metadata": {},
   "outputs": [],
   "source": [
    "input_layer_size = 400  # 20x20 Input Images of Digits\n",
    "num_labels = 10  # 10 labels, from 1 to 10\n",
    "l = 0.1\n",
    "all_theta = one_vs_all(X, y, num_labels, l)"
   ]
  },
  {
   "cell_type": "markdown",
   "metadata": {},
   "source": [
    "Adding column to matrix X"
   ]
  },
  {
   "cell_type": "code",
   "execution_count": 8,
   "metadata": {},
   "outputs": [],
   "source": [
    "M=np.ones((X.shape[0],1))\n",
    "X=np.concatenate((M,X), axis=1)"
   ]
  },
  {
   "cell_type": "code",
   "execution_count": 9,
   "metadata": {},
   "outputs": [],
   "source": [
    "y=np.reshape(y,(5000,1))"
   ]
  },
  {
   "cell_type": "markdown",
   "metadata": {},
   "source": [
    "PREDICT FUNCTION"
   ]
  },
  {
   "cell_type": "code",
   "execution_count": 10,
   "metadata": {},
   "outputs": [],
   "source": [
    "def predict(theta,X,y):\n",
    "    prob=sigmoid(np.dot(X,theta.T));\n",
    "    return(np.argmax(prob, axis=1))"
   ]
  },
  {
   "cell_type": "markdown",
   "metadata": {},
   "source": [
    "CALCULATING THE ACCURACY PERCENTAGE"
   ]
  },
  {
   "cell_type": "code",
   "execution_count": 11,
   "metadata": {},
   "outputs": [
    {
     "name": "stdout",
     "output_type": "stream",
     "text": [
      "Training set accuracy: 96.46000000000001 %\n"
     ]
    }
   ],
   "source": [
    "pred=predict(all_theta,X,y)\n",
    "pred[pred==0]=10;\n",
    "print('Training set accuracy: {} %'.format(np.mean(pred == y.ravel())*100))"
   ]
  },
  {
   "cell_type": "markdown",
   "metadata": {},
   "source": [
    "LOADING WEIGHTS FROM THE FILE, WHICH ARE ALREADY OPTIMISED WEIGHTS"
   ]
  },
  {
   "cell_type": "code",
   "execution_count": 17,
   "metadata": {},
   "outputs": [
    {
     "name": "stdout",
     "output_type": "stream",
     "text": [
      "(25, 401)\n",
      "(10, 26)\n"
     ]
    }
   ],
   "source": [
    "mat_weightsdata = sio.loadmat('ex3weights.mat')\n",
    "Theta1 = mat_weightsdata['Theta1']\n",
    "Theta2 = mat_weightsdata['Theta2']\n",
    "print(Theta1.shape)\n",
    "print(Theta2.shape)"
   ]
  },
  {
   "cell_type": "markdown",
   "metadata": {},
   "source": [
    "NEURAL NETWORK"
   ]
  },
  {
   "cell_type": "code",
   "execution_count": 18,
   "metadata": {},
   "outputs": [],
   "source": [
    "def neuralnetwork(X,Theta1,Theta2):\n",
    "    activation2=sigmoid(np.dot(X,Theta1.T));\n",
    "    activation2=np.concatenate((M,activation2),axis=1);\n",
    "    activation3=sigmoid(np.dot(activation2,Theta2.T));\n",
    "    return(np.argmax(activation3, axis=1)+1)"
   ]
  },
  {
   "cell_type": "markdown",
   "metadata": {},
   "source": [
    "ACCURACY"
   ]
  },
  {
   "cell_type": "code",
   "execution_count": 14,
   "metadata": {},
   "outputs": [
    {
     "name": "stdout",
     "output_type": "stream",
     "text": [
      "Training set accuracy: 97.52 %\n"
     ]
    }
   ],
   "source": [
    "prednn=neuralnetwork(X,Theta1,Theta2)\n",
    "print('Training set accuracy: {} %'.format(np.mean(prednn == y.ravel())*100))"
   ]
  }
 ],
 "metadata": {
  "kernelspec": {
   "display_name": "Python 3",
   "language": "python",
   "name": "python3"
  },
  "language_info": {
   "codemirror_mode": {
    "name": "ipython",
    "version": 3
   },
   "file_extension": ".py",
   "mimetype": "text/x-python",
   "name": "python",
   "nbconvert_exporter": "python",
   "pygments_lexer": "ipython3",
   "version": "3.7.1"
  }
 },
 "nbformat": 4,
 "nbformat_minor": 2
}
