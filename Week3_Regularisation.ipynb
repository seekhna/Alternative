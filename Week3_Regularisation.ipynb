{
 "cells": [
  {
   "cell_type": "markdown",
   "metadata": {},
   "source": [
    "REGULARISATION"
   ]
  },
  {
   "cell_type": "code",
   "execution_count": 35,
   "metadata": {},
   "outputs": [],
   "source": [
    "import numpy as np\n",
    "import pandas as pd\n",
    "import matplotlib.pyplot as plt\n",
    "import seaborn as sns\n",
    "import math\n",
    "import scipy.optimize as opt"
   ]
  },
  {
   "cell_type": "markdown",
   "metadata": {},
   "source": [
    "Loading Data 'from ex2data2.csv'\n",
    "\n",
    "Consists of 3 columns==>data1\n",
    "\n",
    "First 2 columns for test scores\n",
    "\n",
    "Third column for Ouput==>dataY"
   ]
  },
  {
   "cell_type": "code",
   "execution_count": 36,
   "metadata": {},
   "outputs": [],
   "source": [
    "filename='ex2data2.csv';\n",
    "data1=pd.read_csv(filename,nrows=118,header=None)\n",
    "data1.columns=['Microchip test 1','Microchip test 2','Output']\n",
    "dataY=pd.DataFrame(data=data1[:][:],index=range(0,118),columns=['Output'])"
   ]
  },
  {
   "cell_type": "markdown",
   "metadata": {},
   "source": [
    "Plotting the ScatterPlot by iterrating over the dataset 'data1'"
   ]
  },
  {
   "cell_type": "code",
   "execution_count": 37,
   "metadata": {},
   "outputs": [
    {
     "data": {
      "image/png": "[encoded data removed]",
      "text/plain": [
       "<Figure size 432x288 with 1 Axes>"
      ]
     },
     "metadata": {
      "needs_background": "light"
     },
     "output_type": "display_data"
    }
   ],
   "source": [
    "for key,row in data1.iterrows():\n",
    "    if row['Output']==1:\n",
    "        plt.scatter(x=row['Microchip test 1'],y=row['Microchip test 2'],alpha=0.5,color='red',marker='+')\n",
    "    elif row['Output']==0:\n",
    "        plt.scatter(x=row['Microchip test 1'],y=row['Microchip test 2'],alpha=0.5,color='green',marker='o')\n",
    "plt.xlabel('Microchip test 1')\n",
    "plt.ylabel('Microchip test 2')\n",
    "plt.show()"
   ]
  },
  {
   "cell_type": "markdown",
   "metadata": {},
   "source": [
    "%% =========== Part 1: Regularized Logistic Regression ============\n",
    "%  In this part, you are given a dataset with data points that are not\n",
    "%  linearly separable. However, you would still like to use logistic\n",
    "%  regression to classify the data points.\n",
    "%\n",
    "%  To do so, you introduce more features to use -- in particular, you add\n",
    "%  polynomial features to our data matrix (similar to polynomial\n",
    "%  regression).\n",
    "%\n",
    "\n",
    "% Add Polynomial Features\n",
    "\n",
    "% Note that mapFeature also adds a column of ones for us, so the intercept\n",
    "% term is handled"
   ]
  },
  {
   "cell_type": "markdown",
   "metadata": {},
   "source": [
    "Dividing the dataset 'data1' input columns into two separate dataframes\n",
    "\n",
    "and making numpy arrays of Test 1 and Test 2 data."
   ]
  },
  {
   "cell_type": "code",
   "execution_count": 101,
   "metadata": {},
   "outputs": [],
   "source": [
    "X1=pd.DataFrame(data=data1[:][:],index=range(0,118),columns=['Microchip test 1'])\n",
    "X2=pd.DataFrame(data=data1[:][:],index=range(0,118),columns=['Microchip test 2'])\n",
    "X1=np.array(X1)\n",
    "X2=np.array(X2)\n",
    "y=np.array(dataY)"
   ]
  },
  {
   "cell_type": "markdown",
   "metadata": {},
   "source": [
    "Function to adding Polynomial features\n",
    "\n",
    "From given from the function takes 3 inputs, 2 vectors (Test 1 score and Test 2 score)\n",
    "\n",
    "and 1 scalar (Degree of Polynomial Equation)\n",
    "\n",
    "Ouput: Vector which is Polynomial features for Classier Equation"
   ]
  },
  {
   "cell_type": "code",
   "execution_count": 102,
   "metadata": {},
   "outputs": [],
   "source": [
    "def mapfeature(X1,X2,degree):\n",
    "    out=np.ones((len(X1),1))\n",
    "    for i in range(1,degree+1):\n",
    "        for j in range(0,i+1):\n",
    "            Z1=X1**(i-j)\n",
    "            Z2=X2**j\n",
    "            Z3=np.multiply(Z1,Z2)\n",
    "            out=np.concatenate((out,Z3),axis=1)\n",
    "    return out"
   ]
  },
  {
   "cell_type": "markdown",
   "metadata": {},
   "source": [
    "Lambda ==>labda "
   ]
  },
  {
   "cell_type": "markdown",
   "metadata": {},
   "source": [
    "Sigmoid Function"
   ]
  },
  {
   "cell_type": "code",
   "execution_count": 103,
   "metadata": {},
   "outputs": [],
   "source": [
    "def sigmoid(X,theta):\n",
    "    z=np.array(X.dot(theta));\n",
    "    g=np.zeros((len(z),1))\n",
    "    for i in range(0,len(z)):\n",
    "        g[i]=1/(1+math.exp(-z[i]))   \n",
    "    return g"
   ]
  },
  {
   "cell_type": "markdown",
   "metadata": {},
   "source": [
    "Cost Function with Regularisation"
   ]
  },
  {
   "cell_type": "code",
   "execution_count": 104,
   "metadata": {},
   "outputs": [],
   "source": [
    "def costreg(theta, X, y, labda):\n",
    "    m = len(y)\n",
    "    g=sigmoid(X,theta)\n",
    "    J=0;\n",
    "    for i in range(0,len(X)):\n",
    "        J=J-(y[i])*math.log(g[i])-(1-y[i])*math.log(1-g[i])\n",
    "    for j in range(1,len(theta)):\n",
    "        term=(labda/2)*(theta[j]**2)\n",
    "        J=J+term\n",
    "    return J/len(y)"
   ]
  },
  {
   "cell_type": "markdown",
   "metadata": {},
   "source": [
    "Gradient Function with regularisation"
   ]
  },
  {
   "cell_type": "code",
   "execution_count": 105,
   "metadata": {},
   "outputs": [],
   "source": [
    "def gradreg(theta,X,y,labda):\n",
    "    m = len(y)\n",
    "    g=sigmoid(X,theta)\n",
    "    grad=np.zeros((theta.shape))\n",
    "    for i in range(0,len(X)):\n",
    "        for j in range(0,len(theta)):\n",
    "            grad[j]=grad[j]+(g[i]-y[i])*X[i][j]\n",
    "        for k in range(1,len(theta)):\n",
    "            grad[k]=grad[k]+(labda*theta[k])\n",
    "            \n",
    "    return grad/m"
   ]
  },
  {
   "cell_type": "markdown",
   "metadata": {},
   "source": [
    "Calling \n",
    "\n",
    " 1: MapFeature: Adding Polynomial Features\n",
    " \n",
    " 2: Cost Regularised\n",
    " \n",
    " 3: Gradient Regularised"
   ]
  },
  {
   "cell_type": "code",
   "execution_count": 119,
   "metadata": {},
   "outputs": [
    {
     "name": "stdout",
     "output_type": "stream",
     "text": [
      "[3.16450933]\n"
     ]
    }
   ],
   "source": [
    "degree=6\n",
    "X = mapfeature(X1,X2,degree)\n",
    "theta=np.ones((28,1))\n",
    "labda=10\n",
    "cost=costreg(theta,X,y,labda)\n",
    "grad=gradreg(theta,X,y,labda)\n",
    "print(cost)"
   ]
  },
  {
   "cell_type": "markdown",
   "metadata": {},
   "source": [
    "Algorithm to solve the Optimal Values of Cost and Theta"
   ]
  },
  {
   "cell_type": "code",
   "execution_count": 120,
   "metadata": {},
   "outputs": [
    {
     "name": "stdout",
     "output_type": "stream",
     "text": [
      "[0.68189556]\n",
      "[ 0.0150142  -0.01714181  0.00224946 -0.0500985  -0.01372527 -0.03838421\n",
      " -0.01759694 -0.00827984 -0.00852337 -0.02154785 -0.03814534 -0.00349061\n",
      " -0.01307327 -0.00424498 -0.03691978 -0.01954297 -0.00520809 -0.00408934\n",
      " -0.00670666 -0.00521497 -0.02958497 -0.03035192 -0.00209658 -0.00701212\n",
      " -0.00145662 -0.00796395 -0.00241062 -0.03696728]\n"
     ]
    }
   ],
   "source": [
    "result = opt.fmin_tnc(func=costreg, x0=theta, fprime=gradreg, args=(X,y,1))\n",
    "print(costreg(result[0],X,y,labda))\n",
    "theta_min = np.array(result[0])\n",
    "print(theta_min)"
   ]
  },
  {
   "cell_type": "markdown",
   "metadata": {},
   "source": [
    "PREDICT FUNCTION"
   ]
  },
  {
   "cell_type": "code",
   "execution_count": 121,
   "metadata": {},
   "outputs": [],
   "source": [
    "def predict(theta, X,y):\n",
    "    m = len(X)\n",
    "    p = np.zeros((m, 1))\n",
    "    count=0\n",
    "    for i in range(0,m):\n",
    "        x=np.array([X[i][:]])\n",
    "        if(sigmoid(x,theta)>0.5):\n",
    "            p[i]=1\n",
    "            if p[i]==y[i]:\n",
    "                count=count+1\n",
    "            else:\n",
    "                continue\n",
    "        else:\n",
    "            p[i]=0\n",
    "            if p[i]==y[i]:\n",
    "                count=count+1\n",
    "            else:\n",
    "                continue\n",
    "    print(count)\n",
    "    return count;"
   ]
  },
  {
   "cell_type": "code",
   "execution_count": 122,
   "metadata": {},
   "outputs": [
    {
     "name": "stdout",
     "output_type": "stream",
     "text": [
      "76\n"
     ]
    }
   ],
   "source": [
    "p= predict(theta_min, X,y)"
   ]
  },
  {
   "cell_type": "markdown",
   "metadata": {},
   "source": [
    "ACCURACY"
   ]
  },
  {
   "cell_type": "code",
   "execution_count": 123,
   "metadata": {},
   "outputs": [
    {
     "name": "stdout",
     "output_type": "stream",
     "text": [
      "64.40677966101696\n"
     ]
    }
   ],
   "source": [
    "print(p*100/118)"
   ]
  }
 ],
 "metadata": {
  "kernelspec": {
   "display_name": "Python 3",
   "language": "python",
   "name": "python3"
  },
  "language_info": {
   "codemirror_mode": {
    "name": "ipython",
    "version": 3
   },
   "file_extension": ".py",
   "mimetype": "text/x-python",
   "name": "python",
   "nbconvert_exporter": "python",
   "pygments_lexer": "ipython3",
   "version": "3.7.1"
  }
 },
 "nbformat": 4,
 "nbformat_minor": 2
}
