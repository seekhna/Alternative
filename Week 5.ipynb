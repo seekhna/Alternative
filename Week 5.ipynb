{
 "cells": [
  {
   "cell_type": "code",
   "execution_count": 1,
   "metadata": {},
   "outputs": [],
   "source": [
    "import numpy as np\n",
    "import pandas as pd\n",
    "import scipy.optimize as min\n",
    "import math\n",
    "import scipy.io as sio"
   ]
  },
  {
   "cell_type": "code",
   "execution_count": 2,
   "metadata": {},
   "outputs": [],
   "source": [
    "inputlayer=400;\n",
    "hiddenlayer=25;\n",
    "output=10;\n",
    "numlabels=10;"
   ]
  },
  {
   "cell_type": "code",
   "execution_count": 3,
   "metadata": {},
   "outputs": [
    {
     "name": "stdout",
     "output_type": "stream",
     "text": [
      "(25, 401)\n",
      "(10, 26)\n",
      "(5000, 400)\n",
      "(5000,)\n"
     ]
    }
   ],
   "source": [
    "mat_data = sio.loadmat('ex4data1.mat')\n",
    "X = mat_data['X']\n",
    "y = mat_data['y'].ravel()\n",
    "weights_data=sio.loadmat('ex4weights.mat')\n",
    "Theta1=weights_data['Theta1']\n",
    "Theta2=weights_data['Theta2']\n",
    "m, n = X.shape\n",
    "print(Theta1.shape)\n",
    "print(Theta2.shape)\n",
    "print(X.shape)\n",
    "print(y.shape)"
   ]
  },
  {
   "cell_type": "code",
   "execution_count": 4,
   "metadata": {},
   "outputs": [
    {
     "name": "stdout",
     "output_type": "stream",
     "text": [
      "(10025,)\n",
      "(260,)\n",
      "(10285,)\n"
     ]
    }
   ],
   "source": [
    "theta1=np.reshape(Theta1,-1)\n",
    "print(theta1.shape)\n",
    "theta2=np.reshape(Theta2,-1)\n",
    "print(theta2.shape)\n",
    "theta=np.hstack((theta1,theta2))\n",
    "print(theta.shape)"
   ]
  },
  {
   "cell_type": "code",
   "execution_count": 5,
   "metadata": {},
   "outputs": [],
   "source": [
    "def sigmoid(z):\n",
    "    g = 1 / (1 + np.exp(-z))\n",
    "    return g"
   ]
  },
  {
   "cell_type": "code",
   "execution_count": 6,
   "metadata": {},
   "outputs": [],
   "source": [
    "X=np.reshape(X,-1)"
   ]
  },
  {
   "cell_type": "markdown",
   "metadata": {},
   "source": [
    "H- Value of Hypothesis- (5000*10)\n",
    "\n",
    "nnh= Maximum value of H in every row- (5000,)\n",
    "\n",
    "nnlabel= Value of Label for nnh- (5000,)\n"
   ]
  },
  {
   "cell_type": "code",
   "execution_count": 15,
   "metadata": {},
   "outputs": [],
   "source": [
    "def computecost(theta,X,y,labda):\n",
    "    Theta1=np.reshape(theta[0:10025],(25,401))\n",
    "    Theta2=np.reshape(theta[10025:10285],(10,26))\n",
    "    X=np.reshape(X,(5000,400))\n",
    "    X=np.hstack((np.ones((X.shape[0],1)), X))\n",
    "    activation2=sigmoid(np.dot(X,Theta1.T));\n",
    "    activation2=np.concatenate((np.ones((X.shape[0],1)), activation2),axis=1);\n",
    "    H=sigmoid(np.dot(activation2,Theta2.T));\n",
    "    pred=np.argmax(H,axis=1)+1\n",
    "    Accuracy=np.mean(pred==y)*100\n",
    "    #print(Accuracy)\n",
    "    numlabel=np.arange(1,11).reshape(1,10)\n",
    "    y=np.reshape(y,(y.shape[0],1))\n",
    "    D=(numlabel==y)*1\n",
    "    m=X.shape[0];\n",
    "    Cost=np.sum(1/m*(-np.multiply(D,np.log(H))-np.multiply((1-D),np.log(1-H))))\n",
    "    Regularisation= labda/(2*m)*(np.sum(np.delete(Theta1,0,1)**2)+ np.sum(np.delete(Theta2,0,1)**2))\n",
    "    return Cost+Regularisation"
   ]
  },
  {
   "cell_type": "code",
   "execution_count": 16,
   "metadata": {},
   "outputs": [
    {
     "data": {
      "text/plain": [
       "0.38376985909092365"
      ]
     },
     "execution_count": 16,
     "metadata": {},
     "output_type": "execute_result"
    }
   ],
   "source": [
    "labda=1;\n",
    "computecost(theta,X,y,labda)"
   ]
  },
  {
   "cell_type": "code",
   "execution_count": 17,
   "metadata": {},
   "outputs": [],
   "source": [
    "numlabel=np.arange(1,11).reshape(1,10)\n",
    "y=np.reshape(y,(5000,1))"
   ]
  },
  {
   "cell_type": "code",
   "execution_count": 18,
   "metadata": {},
   "outputs": [],
   "source": [
    "def sigmoidgradient(z):\n",
    "    sig= 1 / (1 + np.exp(-z))\n",
    "    sigrad=np.multiply(sig,1-sig)\n",
    "    return sigrad"
   ]
  },
  {
   "cell_type": "code",
   "execution_count": 19,
   "metadata": {},
   "outputs": [],
   "source": [
    "def randominitialize():\n",
    "    elipson=0.12\n",
    "    theta1=np.random.rand(hiddenlayer,inputlayer+1)*2*elipson-elipson;\n",
    "    theta2=np.random.rand(output,hiddenlayer+1)*2*elipson-elipson;\n",
    "    theta1=np.reshape(theta1,-1)\n",
    "    theta2=np.reshape(theta2,-1)\n",
    "    initial_theta=np.hstack((theta1,theta2))\n",
    "    return initial_theta"
   ]
  },
  {
   "cell_type": "code",
   "execution_count": 20,
   "metadata": {},
   "outputs": [],
   "source": [
    "def backprop(theta,X,y,labda):\n",
    "    Theta1=np.reshape(theta[0:10025],(25,401))\n",
    "    Theta2=np.reshape(theta[10025:10285],(10,26))\n",
    "    X=np.reshape(X,(5000,400))\n",
    "    X=np.hstack((np.ones((X.shape[0],1)), X))\n",
    "    activation2=sigmoid(np.dot(X,Theta1.T));\n",
    "    activation2=np.concatenate((np.ones((X.shape[0],1)), activation2),axis=1);\n",
    "    H=sigmoid(np.dot(activation2,Theta2.T));\n",
    "    numlabel=np.arange(1,output+1).reshape(1,output);\n",
    "    y=np.reshape(y,(y.shape[0],1));\n",
    "    D=(numlabel==y)*1;\n",
    "    error3=H-D;\n",
    "    error2=np.dot(error3,Theta2)\n",
    "    error2=np.delete(error2,0,1)\n",
    "    error2=np.multiply(error2,sigmoidgradient(np.dot(X,Theta1.T)))\n",
    "    delta2=np.dot(error3.T,activation2)+ labda*Theta2\n",
    "    delta2[:][0]=delta2[:][0]-labda*Theta2[:][0]\n",
    "    delta1=np.dot(error2.T,X)+ labda*Theta1\n",
    "    delta1[:][0]=delta1[:][0]-labda*Theta1[:][0]\n",
    "    delta1=np.reshape(delta1,-1)\n",
    "    delta2=np.reshape(delta2,-1)\n",
    "    delta=np.hstack((delta1,delta2))\n",
    "    return delta"
   ]
  },
  {
   "cell_type": "code",
   "execution_count": 21,
   "metadata": {},
   "outputs": [],
   "source": [
    "initial_theta=randominitialize();"
   ]
  },
  {
   "cell_type": "code",
   "execution_count": null,
   "metadata": {},
   "outputs": [],
   "source": [
    "result = min.fmin_tnc(func=computecost, x0=initial_theta, fprime=backprop, args=(X,y,labda))"
   ]
  },
  {
   "cell_type": "code",
   "execution_count": null,
   "metadata": {},
   "outputs": [],
   "source": [
    "computecost(result[0],X,y,labda)"
   ]
  },
  {
   "cell_type": "code",
   "execution_count": null,
   "metadata": {},
   "outputs": [],
   "source": [
    "my_data = genfromtxt('my_file.csv', delimiter=',')"
   ]
  }
 ],
 "metadata": {
  "kernelspec": {
   "display_name": "Python 3",
   "language": "python",
   "name": "python3"
  },
  "language_info": {
   "codemirror_mode": {
    "name": "ipython",
    "version": 3
   },
   "file_extension": ".py",
   "mimetype": "text/x-python",
   "name": "python",
   "nbconvert_exporter": "python",
   "pygments_lexer": "ipython3",
   "version": "3.7.1"
  }
 },
 "nbformat": 4,
 "nbformat_minor": 2
}
